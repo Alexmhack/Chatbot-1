{
 "cells": [
  {
   "cell_type": "code",
   "execution_count": 1,
   "metadata": {},
   "outputs": [
    {
     "ename": "ModuleNotFoundError",
     "evalue": "No module named 'goibibo.Configs'; 'goibibo' is not a package",
     "output_type": "error",
     "traceback": [
      "\u001b[0;31m---------------------------------------------------------------------------\u001b[0m",
      "\u001b[0;31mModuleNotFoundError\u001b[0m                       Traceback (most recent call last)",
      "\u001b[0;32m<ipython-input-1-d9b846016b67>\u001b[0m in \u001b[0;36m<module>\u001b[0;34m()\u001b[0m\n\u001b[0;32m----> 1\u001b[0;31m \u001b[0;32mimport\u001b[0m \u001b[0mgoibibo\u001b[0m\u001b[0;34m\u001b[0m\u001b[0m\n\u001b[0m",
      "\u001b[0;32m~/Desktop/new/goibibo/GoAPICalls/goibibo.py\u001b[0m in \u001b[0;36m<module>\u001b[0;34m()\u001b[0m\n\u001b[1;32m      5\u001b[0m \u001b[0;34m\u001b[0m\u001b[0m\n\u001b[1;32m      6\u001b[0m \u001b[0msys\u001b[0m\u001b[0;34m.\u001b[0m\u001b[0mpath\u001b[0m\u001b[0;34m.\u001b[0m\u001b[0mappend\u001b[0m\u001b[0;34m(\u001b[0m\u001b[0;34m\"../\"\u001b[0m\u001b[0;34m)\u001b[0m\u001b[0;34m\u001b[0m\u001b[0m\n\u001b[0;32m----> 7\u001b[0;31m \u001b[0;32mfrom\u001b[0m \u001b[0mgoibibo\u001b[0m\u001b[0;34m.\u001b[0m\u001b[0mConfigs\u001b[0m\u001b[0;34m.\u001b[0m\u001b[0mserver_conf\u001b[0m \u001b[0;32mimport\u001b[0m \u001b[0mconfig\u001b[0m\u001b[0;34m\u001b[0m\u001b[0m\n\u001b[0m\u001b[1;32m      8\u001b[0m \u001b[0;32mfrom\u001b[0m \u001b[0mgoibibo\u001b[0m\u001b[0;34m.\u001b[0m\u001b[0mConfigs\u001b[0m\u001b[0;34m.\u001b[0m\u001b[0mbusCityList\u001b[0m \u001b[0;32mimport\u001b[0m \u001b[0mBusCity\u001b[0m\u001b[0;34m\u001b[0m\u001b[0m\n\u001b[1;32m      9\u001b[0m \u001b[0;32mfrom\u001b[0m \u001b[0mgoibibo\u001b[0m\u001b[0;34m.\u001b[0m\u001b[0mConfigs\u001b[0m\u001b[0;34m.\u001b[0m\u001b[0mIATADatabase\u001b[0m \u001b[0;32mimport\u001b[0m \u001b[0miata_dicts\u001b[0m\u001b[0;34m\u001b[0m\u001b[0m\n",
      "\u001b[0;31mModuleNotFoundError\u001b[0m: No module named 'goibibo.Configs'; 'goibibo' is not a package"
     ]
    }
   ],
   "source": [
    "import goibibo"
   ]
  },
  {
   "cell_type": "code",
   "execution_count": 2,
   "metadata": {
    "scrolled": true
   },
   "outputs": [
    {
     "ename": "NameError",
     "evalue": "name 'goibibo' is not defined",
     "output_type": "error",
     "traceback": [
      "\u001b[0;31m---------------------------------------------------------------------------\u001b[0m",
      "\u001b[0;31mNameError\u001b[0m                                 Traceback (most recent call last)",
      "\u001b[0;32m<ipython-input-2-93b03744c1dc>\u001b[0m in \u001b[0;36m<module>\u001b[0;34m()\u001b[0m\n\u001b[0;32m----> 1\u001b[0;31m \u001b[0mhotels\u001b[0m \u001b[0;34m=\u001b[0m \u001b[0mgoibibo\u001b[0m\u001b[0;34m.\u001b[0m\u001b[0mgetHotelResp\u001b[0m\u001b[0;34m(\u001b[0m\u001b[0;34m\"roorkee\"\u001b[0m\u001b[0;34m)\u001b[0m\u001b[0;34m\u001b[0m\u001b[0m\n\u001b[0m\u001b[1;32m      2\u001b[0m \u001b[0mgoibibo\u001b[0m\u001b[0;34m.\u001b[0m\u001b[0mformatdate\u001b[0m\u001b[0;34m(\u001b[0m\u001b[0;34m\"19/08/2017\"\u001b[0m\u001b[0;34m)\u001b[0m\u001b[0;34m\u001b[0m\u001b[0m\n",
      "\u001b[0;31mNameError\u001b[0m: name 'goibibo' is not defined"
     ]
    }
   ],
   "source": [
    "hotels = goibibo.getHotelResp(\"roorkee\")\n",
    "goibibo.formatdate(\"19/08/2017\")"
   ]
  },
  {
   "cell_type": "code",
   "execution_count": 4,
   "metadata": {
    "scrolled": true
   },
   "outputs": [
    {
     "name": "stdout",
     "output_type": "stream",
     "text": [
      "http://developer.goibibo.com/api/search/\n"
     ]
    },
    {
     "ename": "KeyError",
     "evalue": "'onwardflights'",
     "output_type": "error",
     "traceback": [
      "\u001b[0;31m---------------------------------------------------------------------------\u001b[0m",
      "\u001b[0;31mKeyError\u001b[0m                                  Traceback (most recent call last)",
      "\u001b[0;32m<ipython-input-4-522d550c3528>\u001b[0m in \u001b[0;36m<module>\u001b[0;34m()\u001b[0m\n\u001b[0;32m----> 1\u001b[0;31m \u001b[0mflight\u001b[0m\u001b[0;34m=\u001b[0m\u001b[0mgoibibo\u001b[0m\u001b[0;34m.\u001b[0m\u001b[0mgetFlightsResp\u001b[0m\u001b[0;34m(\u001b[0m\u001b[0;34m\"bangalore\"\u001b[0m\u001b[0;34m,\u001b[0m\u001b[0;34m\"mumbai\"\u001b[0m\u001b[0;34m,\u001b[0m\u001b[0;34m\"19/08/2017\"\u001b[0m\u001b[0;34m)\u001b[0m\u001b[0;34m\u001b[0m\u001b[0m\n\u001b[0m\u001b[1;32m      2\u001b[0m \u001b[0mflight\u001b[0m\u001b[0;34m\u001b[0m\u001b[0m\n",
      "\u001b[0;32m~/Desktop/Project/ibibo_data/goibibo/GoAPICalls/goibibo.py\u001b[0m in \u001b[0;36mgetFlightsResp\u001b[0;34m(source, destination, date)\u001b[0m\n\u001b[1;32m    150\u001b[0m         \u001b[0mresp\u001b[0m \u001b[0;34m=\u001b[0m \u001b[0mrequests\u001b[0m\u001b[0;34m.\u001b[0m\u001b[0mget\u001b[0m\u001b[0;34m(\u001b[0m\u001b[0murl\u001b[0m\u001b[0;34m,\u001b[0m\u001b[0mparams\u001b[0m\u001b[0;34m=\u001b[0m\u001b[0mdata\u001b[0m\u001b[0;34m)\u001b[0m\u001b[0;34m\u001b[0m\u001b[0m\n\u001b[1;32m    151\u001b[0m         \u001b[0mresp_data\u001b[0m \u001b[0;34m=\u001b[0m \u001b[0mresp\u001b[0m\u001b[0;34m.\u001b[0m\u001b[0mjson\u001b[0m\u001b[0;34m(\u001b[0m\u001b[0;34m)\u001b[0m\u001b[0;34m.\u001b[0m\u001b[0mget\u001b[0m\u001b[0;34m(\u001b[0m\u001b[0;34m'data'\u001b[0m\u001b[0;34m)\u001b[0m\u001b[0;34m\u001b[0m\u001b[0m\n\u001b[0;32m--> 152\u001b[0;31m         \u001b[0monward_flights_resp\u001b[0m \u001b[0;34m=\u001b[0m \u001b[0mresp_data\u001b[0m\u001b[0;34m[\u001b[0m\u001b[0;34m'onwardflights'\u001b[0m\u001b[0;34m]\u001b[0m\u001b[0;34m\u001b[0m\u001b[0m\n\u001b[0m\u001b[1;32m    153\u001b[0m         \u001b[0mreturn_flights_resp\u001b[0m \u001b[0;34m=\u001b[0m \u001b[0mresp_data\u001b[0m\u001b[0;34m[\u001b[0m\u001b[0;34m'returnflights'\u001b[0m\u001b[0;34m]\u001b[0m\u001b[0;34m\u001b[0m\u001b[0m\n\u001b[1;32m    154\u001b[0m \u001b[0;34m\u001b[0m\u001b[0m\n",
      "\u001b[0;31mKeyError\u001b[0m: 'onwardflights'"
     ]
    }
   ],
   "source": [
    "flight=goibibo.getFlightsResp(\"bangalore\",\"mumbai\",\"2017/08/19\")\n",
    "flight"
   ]
  },
  {
   "cell_type": "code",
   "execution_count": 3,
   "metadata": {},
   "outputs": [
    {
     "ename": "TypeError",
     "evalue": "getBusesResp() missing 1 required positional argument: 'return_date'",
     "output_type": "error",
     "traceback": [
      "\u001b[0;31m---------------------------------------------------------------------------\u001b[0m",
      "\u001b[0;31mTypeError\u001b[0m                                 Traceback (most recent call last)",
      "\u001b[0;32m<ipython-input-3-971ba25f313b>\u001b[0m in \u001b[0;36m<module>\u001b[0;34m()\u001b[0m\n\u001b[0;32m----> 1\u001b[0;31m \u001b[0mgoibibo\u001b[0m\u001b[0;34m.\u001b[0m\u001b[0mgetBusesResp\u001b[0m\u001b[0;34m(\u001b[0m\u001b[0;34m\"bangalore\"\u001b[0m\u001b[0;34m,\u001b[0m\u001b[0;34m\"hyderabad\"\u001b[0m\u001b[0;34m,\u001b[0m\u001b[0;34m\"2017/08/19\"\u001b[0m\u001b[0;34m)\u001b[0m\u001b[0;34m\u001b[0m\u001b[0m\n\u001b[0m",
      "\u001b[0;31mTypeError\u001b[0m: getBusesResp() missing 1 required positional argument: 'return_date'"
     ]
    }
   ],
   "source": [
    "goibibo.getBusesResp(\"bangalore\",\"hyderabad\",\"2017/08/19\")"
   ]
  },
  {
   "cell_type": "code",
   "execution_count": 11,
   "metadata": {},
   "outputs": [
    {
     "name": "stdout",
     "output_type": "stream",
     "text": [
      "20170809\n"
     ]
    }
   ],
   "source": [
    "import re\n",
    "my_str = \"20170809\"\n",
    "my_new_string = re.sub('[^0-9 \\n\\.]', '', my_str)\n",
    "print (my_new_string)"
   ]
  },
  {
   "cell_type": "code",
   "execution_count": null,
   "metadata": {
    "collapsed": true
   },
   "outputs": [],
   "source": []
  }
 ],
 "metadata": {
  "kernelspec": {
   "display_name": "Python 3",
   "language": "python",
   "name": "python3"
  },
  "language_info": {
   "codemirror_mode": {
    "name": "ipython",
    "version": 3
   },
   "file_extension": ".py",
   "mimetype": "text/x-python",
   "name": "python",
   "nbconvert_exporter": "python",
   "pygments_lexer": "ipython3",
   "version": "3.6.0"
  }
 },
 "nbformat": 4,
 "nbformat_minor": 2
}
